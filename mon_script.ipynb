{
 "cells": [
  {
   "cell_type": "code",
   "execution_count": 1,
   "metadata": {},
   "outputs": [],
   "source": [
    "import pandas as pd\n",
    "import numpy as np\n",
    "import importlib"
   ]
  },
  {
   "cell_type": "code",
   "execution_count": 5,
   "metadata": {},
   "outputs": [],
   "source": [
    "from LePackage import CommonTools\n",
    "from LePackage import SpecialFunctions"
   ]
  },
  {
   "cell_type": "code",
   "execution_count": 6,
   "metadata": {},
   "outputs": [],
   "source": [
    "def reload_everything():\n",
    "    for module in [CommonTools, SpecialFunctions]:\n",
    "        importlib.reload(module)"
   ]
  },
  {
   "cell_type": "code",
   "execution_count": 7,
   "metadata": {},
   "outputs": [],
   "source": [
    "reload_everything()"
   ]
  },
  {
   "cell_type": "code",
   "execution_count": 8,
   "metadata": {},
   "outputs": [],
   "source": [
    "titi = 5\n",
    "toto = 8\n",
    "tutu = 9"
   ]
  },
  {
   "cell_type": "code",
   "execution_count": 9,
   "metadata": {},
   "outputs": [
    {
     "data": {
      "text/plain": [
       "22"
      ]
     },
     "execution_count": 9,
     "metadata": {},
     "output_type": "execute_result"
    }
   ],
   "source": [
    "CommonTools.premiere_fonction(titi, toto, tutu)"
   ]
  },
  {
   "cell_type": "code",
   "execution_count": 10,
   "metadata": {},
   "outputs": [
    {
     "data": {
      "text/plain": [
       "484"
      ]
     },
     "execution_count": 10,
     "metadata": {},
     "output_type": "execute_result"
    }
   ],
   "source": [
    "SpecialFunctions.my_special_function(titi, toto, tutu)"
   ]
  },
  {
   "cell_type": "code",
   "execution_count": 11,
   "metadata": {},
   "outputs": [
    {
     "data": {
      "text/plain": [
       "4"
      ]
     },
     "execution_count": 11,
     "metadata": {},
     "output_type": "execute_result"
    }
   ],
   "source": [
    "SpecialFunctions.google_style_docstring(18,7)"
   ]
  },
  {
   "cell_type": "code",
   "execution_count": 12,
   "metadata": {},
   "outputs": [
    {
     "data": {
      "text/plain": [
       "12.5"
      ]
     },
     "execution_count": 12,
     "metadata": {},
     "output_type": "execute_result"
    }
   ],
   "source": [
    "SpecialFunctions.type_hints_essai()"
   ]
  },
  {
   "cell_type": "code",
   "execution_count": 10,
   "metadata": {},
   "outputs": [],
   "source": [
    "Toy_object = SpecialFunctions.Objet_de_ouf(a=titi, b=toto)"
   ]
  },
  {
   "cell_type": "code",
   "execution_count": 19,
   "metadata": {},
   "outputs": [
    {
     "data": {
      "text/plain": [
       "a     : 5b     : 8"
      ]
     },
     "execution_count": 19,
     "metadata": {},
     "output_type": "execute_result"
    }
   ],
   "source": [
    "Toy_object"
   ]
  },
  {
   "cell_type": "code",
   "execution_count": 17,
   "metadata": {},
   "outputs": [
    {
     "name": "stdout",
     "output_type": "stream",
     "text": [
      "a     : 5\n",
      "b     : 8\n"
     ]
    }
   ],
   "source": [
    "Toy_object.show_me_your_attributes()"
   ]
  },
  {
   "cell_type": "code",
   "execution_count": 20,
   "metadata": {},
   "outputs": [
    {
     "data": {
      "text/plain": [
       "'ab -- 13'"
      ]
     },
     "execution_count": 20,
     "metadata": {},
     "output_type": "execute_result"
    }
   ],
   "source": [
    "Toy_object.fais_de_la_merde_avec_les_attributs()"
   ]
  },
  {
   "cell_type": "code",
   "execution_count": 37,
   "metadata": {},
   "outputs": [],
   "source": [
    "my_text = \"\"\"\n",
    "essai soulignement simple avec ===\n",
    "==================================\n",
    "\"\"\""
   ]
  },
  {
   "cell_type": "code",
   "execution_count": 38,
   "metadata": {},
   "outputs": [
    {
     "name": "stdout",
     "output_type": "stream",
     "text": [
      "\n",
      "essai soulignement simple avec ###\n",
      "##################################\n",
      "\n",
      "\n",
      "essai soulignement simple avec ***\n",
      "**********************************\n",
      "\n",
      "\n",
      "essai soulignement simple avec ===\n",
      "==================================\n",
      "\n",
      "\n",
      "essai soulignement simple avec ---\n",
      "----------------------------------\n",
      "\n",
      "\n",
      "essai soulignement simple avec ^^^\n",
      "^^^^^^^^^^^^^^^^^^^^^^^^^^^^^^^^^^\n",
      "\n",
      "\n",
      "essai soulignement simple avec \"\"\"\n",
      "\"\"\"\"\"\"\"\"\"\"\"\"\"\"\"\"\"\"\"\"\"\"\"\"\"\"\"\"\"\"\"\"\"\"\n",
      "\n"
     ]
    }
   ],
   "source": [
    "for symbol in ['#', '*', '=', '-', '^', '\"']:\n",
    "    print(my_text.replace('=', symbol))"
   ]
  },
  {
   "cell_type": "code",
   "execution_count": 31,
   "metadata": {},
   "outputs": [],
   "source": [
    "tutu = \"\"\"\n",
    "#\n",
    "*\n",
    "=\n",
    "-\n",
    "^\n",
    "\\\"\"\"\"\n"
   ]
  },
  {
   "cell_type": "code",
   "execution_count": 32,
   "metadata": {},
   "outputs": [
    {
     "data": {
      "text/plain": [
       "'\\'#\\', \\'*\\', \\'=\\', \\'-\\', \\'^\\', \\'\"\\''"
      ]
     },
     "execution_count": 32,
     "metadata": {},
     "output_type": "execute_result"
    }
   ],
   "source": [
    "', '.join([f\"'{elem}'\" for elem in tutu.split()])"
   ]
  },
  {
   "cell_type": "code",
   "execution_count": 33,
   "metadata": {},
   "outputs": [
    {
     "data": {
      "text/plain": [
       "['#', '*', '=', '-', '^', '\"']"
      ]
     },
     "execution_count": 33,
     "metadata": {},
     "output_type": "execute_result"
    }
   ],
   "source": [
    "[f\"{elem}\" for elem in tutu.split()]"
   ]
  },
  {
   "cell_type": "markdown",
   "metadata": {},
   "source": [
    "$\\underline{\\text{Preuve que }A_{6} \\text{ n'est pas un sous-espace vectoriel de } \\mathbb{R^2}}$\n",
    "\n",
    "On prend comme corps $\\mathbb{K}=\\mathbb{R}$\n",
    "\n",
    "Si $A_{6}$ sous-espace vectoriel de $\\mathbb{R^2}$ on devrait avoir $dim(A_{6}) \\leq dim(\\mathbb{R^2}) = 2 $\n",
    "\n",
    "Or,  $\\vec{u} = (1,1) \\in A_{6}$ et $ \\vec{v} = (-1,1) \\in A_{6}$, et $\\vec{u} \\neq \\lambda . \\vec{v} \\space (\\lambda \\in \\mathbb{R})$\n",
    "$\\implies (\\vec{u}, \\vec{v})$ famille libre de $A_{6} \\implies dim(A_{6}) \\geq 2$\n",
    "\n",
    "$dim(A_{6}) \\leq 2$  et  $dim(A_{6}) \\geq 2 \\implies dim(A_{6}) = 2$\n",
    "\n",
    "Si $dim(A_{6}) = 2$ et $A_{6}$ sous-espace de $\\mathbb{R^2}$ lui-même espace vectoriel de dimension 2, on devrait avoir $A_{6} = \\mathbb{R^2}$. \n",
    "\n",
    "Or c'est faux : \n",
    "$\\vec{w} = (0,3) \\in \\mathbb{R^2}$ mais $\\vec{w} \\notin A_{6}$ car $x_{w} = 0$ et $\\vec{w} \\neq (0,0)$\n",
    "\n",
    "$ \\implies A_{6}$  ne peut pas être un sous-espace vectoriel de $\\mathbb{R^2}$ car cette hypothèse aboutit à une contradiction\n",
    "\n",
    "\n",
    "$\n",
    "\\\\\n",
    "$\n",
    "\n",
    "$\\underline{\\text{Description de }A_{6}}$\n",
    "\n",
    "On qualifie le complémentaire, plus facile à visualiser : le complémentaire de $A_{6}$ ce sont :\n",
    "$\\{(x, y)|x, y \\in \\mathbb{R}, x = 0 \\text{ ou } y = 0 \\text{ et } (x, y) \\neq (0,0)\\}$\n",
    "\n",
    "- x = 0 ==> c'est l'axe des ordonnées\n",
    "- y = 0 ==> c'est l'axe des abscisses\n",
    "\n",
    "$A_{6}$ = $\\mathbb{R^2}$ privée de l'axe des abscisses et des ordonnées mais avec l'origine (0,0)"
   ]
  },
  {
   "cell_type": "markdown",
   "metadata": {},
   "source": [
    "$\\vec{u}$"
   ]
  },
  {
   "cell_type": "code",
   "execution_count": null,
   "metadata": {},
   "outputs": [],
   "source": []
  },
  {
   "cell_type": "code",
   "execution_count": 4,
   "metadata": {},
   "outputs": [],
   "source": [
    "import pandas as pd\n",
    "import numpy as np"
   ]
  },
  {
   "cell_type": "code",
   "execution_count": 5,
   "metadata": {},
   "outputs": [
    {
     "data": {
      "text/html": [
       "<div>\n",
       "<style scoped>\n",
       "    .dataframe tbody tr th:only-of-type {\n",
       "        vertical-align: middle;\n",
       "    }\n",
       "\n",
       "    .dataframe tbody tr th {\n",
       "        vertical-align: top;\n",
       "    }\n",
       "\n",
       "    .dataframe thead th {\n",
       "        text-align: right;\n",
       "    }\n",
       "</style>\n",
       "<table border=\"1\" class=\"dataframe\">\n",
       "  <thead>\n",
       "    <tr style=\"text-align: right;\">\n",
       "      <th></th>\n",
       "      <th>$\\alpha$</th>\n",
       "      <th>$\\beta$</th>\n",
       "      <th>$\\gamma$</th>\n",
       "      <th>$\\delta$</th>\n",
       "    </tr>\n",
       "  </thead>\n",
       "  <tbody>\n",
       "    <tr>\n",
       "      <th>0</th>\n",
       "      <td>63</td>\n",
       "      <td>78</td>\n",
       "      <td>21</td>\n",
       "      <td>91</td>\n",
       "    </tr>\n",
       "    <tr>\n",
       "      <th>1</th>\n",
       "      <td>14</td>\n",
       "      <td>16</td>\n",
       "      <td>17</td>\n",
       "      <td>7</td>\n",
       "    </tr>\n",
       "    <tr>\n",
       "      <th>2</th>\n",
       "      <td>77</td>\n",
       "      <td>37</td>\n",
       "      <td>99</td>\n",
       "      <td>64</td>\n",
       "    </tr>\n",
       "    <tr>\n",
       "      <th>3</th>\n",
       "      <td>84</td>\n",
       "      <td>59</td>\n",
       "      <td>23</td>\n",
       "      <td>74</td>\n",
       "    </tr>\n",
       "    <tr>\n",
       "      <th>4</th>\n",
       "      <td>6</td>\n",
       "      <td>25</td>\n",
       "      <td>95</td>\n",
       "      <td>26</td>\n",
       "    </tr>\n",
       "    <tr>\n",
       "      <th>5</th>\n",
       "      <td>17</td>\n",
       "      <td>96</td>\n",
       "      <td>51</td>\n",
       "      <td>44</td>\n",
       "    </tr>\n",
       "    <tr>\n",
       "      <th>6</th>\n",
       "      <td>42</td>\n",
       "      <td>54</td>\n",
       "      <td>35</td>\n",
       "      <td>29</td>\n",
       "    </tr>\n",
       "    <tr>\n",
       "      <th>7</th>\n",
       "      <td>36</td>\n",
       "      <td>63</td>\n",
       "      <td>22</td>\n",
       "      <td>8</td>\n",
       "    </tr>\n",
       "    <tr>\n",
       "      <th>8</th>\n",
       "      <td>4</td>\n",
       "      <td>24</td>\n",
       "      <td>69</td>\n",
       "      <td>80</td>\n",
       "    </tr>\n",
       "    <tr>\n",
       "      <th>9</th>\n",
       "      <td>20</td>\n",
       "      <td>96</td>\n",
       "      <td>98</td>\n",
       "      <td>80</td>\n",
       "    </tr>\n",
       "  </tbody>\n",
       "</table>\n",
       "</div>"
      ],
      "text/plain": [
       "   $\\alpha$  $\\beta$  $\\gamma$  $\\delta$\n",
       "0        63       78        21        91\n",
       "1        14       16        17         7\n",
       "2        77       37        99        64\n",
       "3        84       59        23        74\n",
       "4         6       25        95        26\n",
       "5        17       96        51        44\n",
       "6        42       54        35        29\n",
       "7        36       63        22         8\n",
       "8         4       24        69        80\n",
       "9        20       96        98        80"
      ]
     },
     "execution_count": 5,
     "metadata": {},
     "output_type": "execute_result"
    }
   ],
   "source": [
    "df = pd.DataFrame(np.random.randint(0, 100, size=[10, 4]),\n",
    "                  columns=[r'$\\alpha$', r'$\\beta$', r'$\\gamma$', r'$\\delta$'])\n",
    "df"
   ]
  },
  {
   "cell_type": "code",
   "execution_count": null,
   "metadata": {},
   "outputs": [],
   "source": [
    "\n",
    "𝛼\n",
    "\t𝛽\n",
    "\t𝛾\n",
    "\t𝛿\n",
    "0 \t63 \t78 \t21 \t91\n",
    "1 \t14 \t16 \t17 \t7\n",
    "2 \t77 \t37 \t99 \t64\n",
    "3 \t84 \t59 \t23 \t74\n",
    "4 \t6 \t25 \t95 \t26\n",
    "5 \t17 \t96 \t51 \t44\n",
    "6 \t42 \t54 \t35 \t29\n",
    "7 \t36 \t63 \t22 \t8\n",
    "8 \t4 \t24 \t69 \t80\n",
    "9 \t20 \t96 \t98 \t80"
   ]
  },
  {
   "cell_type": "code",
   "execution_count": 1,
   "metadata": {},
   "outputs": [
    {
     "data": {
      "text/plain": [
       "2"
      ]
     },
     "execution_count": 1,
     "metadata": {},
     "output_type": "execute_result"
    }
   ],
   "source": [
    "5//2"
   ]
  },
  {
   "cell_type": "code",
   "execution_count": 2,
   "metadata": {},
   "outputs": [
    {
     "data": {
      "text/plain": [
       "1"
      ]
     },
     "execution_count": 2,
     "metadata": {},
     "output_type": "execute_result"
    }
   ],
   "source": [
    "5%2"
   ]
  },
  {
   "cell_type": "code",
   "execution_count": 13,
   "metadata": {},
   "outputs": [],
   "source": [
    "my_index = pd.date_range(\n",
    "                            start=2010, \n",
    "                            periods=10, \n",
    "                            freq='24h', \n",
    "                            tz='Europe/Paris'\n",
    ")\n",
    "\n",
    "my_data  = np.random.randint(0, 10, len(my_index))\n",
    "\n",
    "ts = pd.Series(\n",
    "                index=my_index,\n",
    "                data=my_data\n",
    ")"
   ]
  },
  {
   "cell_type": "code",
   "execution_count": 15,
   "metadata": {},
   "outputs": [
    {
     "data": {
      "text/plain": [
       "1970-01-01 00:00:00.000002010    1\n",
       "1970-01-02 00:00:00.000002010    9\n",
       "1970-01-03 00:00:00.000002010    4\n",
       "1970-01-04 00:00:00.000002010    9\n",
       "1970-01-05 00:00:00.000002010    1\n",
       "1970-01-06 00:00:00.000002010    1\n",
       "1970-01-07 00:00:00.000002010    6\n",
       "1970-01-08 00:00:00.000002010    1\n",
       "1970-01-09 00:00:00.000002010    2\n",
       "1970-01-10 00:00:00.000002010    4\n",
       "Freq: 24H, dtype: int32"
      ]
     },
     "execution_count": 15,
     "metadata": {},
     "output_type": "execute_result"
    }
   ],
   "source": [
    "ts"
   ]
  },
  {
   "cell_type": "code",
   "execution_count": null,
   "metadata": {},
   "outputs": [],
   "source": []
  }
 ],
 "metadata": {
  "kernelspec": {
   "display_name": "Python [conda env:tutos]",
   "language": "python",
   "name": "conda-env-tutos-py"
  },
  "language_info": {
   "codemirror_mode": {
    "name": "ipython",
    "version": 3
   },
   "file_extension": ".py",
   "mimetype": "text/x-python",
   "name": "python",
   "nbconvert_exporter": "python",
   "pygments_lexer": "ipython3",
   "version": "3.8.1"
  }
 },
 "nbformat": 4,
 "nbformat_minor": 2
}
